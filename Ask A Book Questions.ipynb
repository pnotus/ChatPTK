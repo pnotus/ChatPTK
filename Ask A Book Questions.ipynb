{
 "cells": [
  {
   "cell_type": "markdown",
   "id": "5166d759",
   "metadata": {},
   "source": [
    "### Load your data"
   ]
  },
  {
   "cell_type": "code",
   "execution_count": 7,
   "id": "bcdac23c",
   "metadata": {},
   "outputs": [
    {
     "name": "stderr",
     "output_type": "stream",
     "text": [
      "detectron2 is not installed. Cannot use the hi_res partitioning strategy. Falling back to partitioning with the fast strategy.\n"
     ]
    }
   ],
   "source": [
    "from langchain.document_loaders import UnstructuredPDFLoader\n",
    "from langchain.text_splitter import RecursiveCharacterTextSplitter\n",
    "\n",
    "loader = UnstructuredPDFLoader(r\"C:\\Users\\pontu\\repos\\ChatPTK\\data\\avtalat_handbok_kollektivavtalad-tjanstepension-och-forsakring_010123.pdf\")\n",
    "data = loader.load()"
   ]
  },
  {
   "cell_type": "code",
   "execution_count": 63,
   "id": "b4fd7c9e",
   "metadata": {},
   "outputs": [
    {
     "name": "stdout",
     "output_type": "stream",
     "text": [
      "You have 1 document(s) in your data\n",
      "There are 276579 characters in your document\n"
     ]
    }
   ],
   "source": [
    "print (f'You have {len(data)} document(s) in your data')\n",
    "print (f'There are {len(data[0].page_content)} characters in your document')"
   ]
  },
  {
   "cell_type": "markdown",
   "id": "8af9b604",
   "metadata": {},
   "source": [
    "### Chunk your data up into smaller documents"
   ]
  },
  {
   "cell_type": "code",
   "execution_count": 9,
   "id": "fb3c6f02",
   "metadata": {},
   "outputs": [],
   "source": [
    "text_splitter = RecursiveCharacterTextSplitter(chunk_size=1000, chunk_overlap=0)\n",
    "texts = text_splitter.split_documents(data)"
   ]
  },
  {
   "cell_type": "code",
   "execution_count": 10,
   "id": "879873a4",
   "metadata": {},
   "outputs": [
    {
     "name": "stdout",
     "output_type": "stream",
     "text": [
      "Now you have 324 documents\n"
     ]
    }
   ],
   "source": [
    "print (f'Now you have {len(texts)} documents')"
   ]
  },
  {
   "cell_type": "markdown",
   "id": "838b2843",
   "metadata": {},
   "source": [
    "### Create embeddings of your documents to get ready for semantic search"
   ]
  },
  {
   "cell_type": "code",
   "execution_count": 56,
   "id": "373e695a",
   "metadata": {},
   "outputs": [],
   "source": [
    "from langchain.vectorstores import Pinecone\n",
    "from langchain.embeddings.openai import OpenAIEmbeddings\n",
    "import pinecone"
   ]
  },
  {
   "cell_type": "code",
   "execution_count": 55,
   "id": "0e093ef3",
   "metadata": {
    "hide_input": false
   },
   "outputs": [],
   "source": [
    "import os\n",
    "import getpass\n",
    "\n",
    "os.environ['OPENAI_API_KEY'] = getpass.getpass(prompt='OpenAI API Key:')\n",
    "os.environ['PINECONE_API_KEY'] = getpass.getpass(prompt='Pinecone API Key:')\n",
    "os.environ['PINECONE_API_ENV'] = 'us-west4-gcp'"
   ]
  },
  {
   "cell_type": "code",
   "execution_count": 53,
   "id": "4e0d1c6a",
   "metadata": {},
   "outputs": [],
   "source": [
    "embeddings = OpenAIEmbeddings(openai_api_key=os.environ['OPENAI_API_KEY'])"
   ]
  },
  {
   "cell_type": "code",
   "execution_count": 27,
   "id": "0deb2f6a",
   "metadata": {},
   "outputs": [],
   "source": [
    "# initialize pinecone\n",
    "pinecone.init(\n",
    "    api_key=os.environ['PINECONE_API_KEY'],  # find at app.pinecone.io\n",
    "    environment=os.environ['PINECONE_API_ENV']  # next to api key in console\n",
    ")\n",
    "index_name = \"chatptk\" # put in the name of your pinecone index here"
   ]
  },
  {
   "cell_type": "code",
   "execution_count": 31,
   "id": "388988ce",
   "metadata": {},
   "outputs": [
    {
     "name": "stderr",
     "output_type": "stream",
     "text": [
      "Retrying langchain.embeddings.openai.embed_with_retry.<locals>._embed_with_retry in 4.0 seconds as it raised RateLimitError: You exceeded your current quota, please check your plan and billing details..\n"
     ]
    }
   ],
   "source": [
    "docsearch = Pinecone.from_texts([t.page_content for t in texts], embeddings, index_name=index_name)"
   ]
  },
  {
   "cell_type": "code",
   "execution_count": 32,
   "id": "34929595",
   "metadata": {},
   "outputs": [],
   "source": [
    "query = \"När kan jag som tidigast gå i pension?\"\n",
    "docs = docsearch.similarity_search(query, include_metadata=True)"
   ]
  },
  {
   "cell_type": "code",
   "execution_count": 33,
   "id": "4e0f5b45",
   "metadata": {},
   "outputs": [
    {
     "data": {
      "text/plain": [
       "'UTBETALNING AV KOLLEKTIVAVTALAD TJÄNSTEPENSION Det pensionsbolag som förvaltar pensionen kontaktar den anställda några månader före 65-årsdagen eller före 66-årsdagen för den som omfattas av ITP 1. Hen får tjänstepension i förhållande till inkomst oc'"
      ]
     },
     "execution_count": 33,
     "metadata": {},
     "output_type": "execute_result"
    }
   ],
   "source": [
    "# Here's an example of the first document that was returned\n",
    "docs[0].page_content[:250]"
   ]
  },
  {
   "cell_type": "markdown",
   "id": "3c35dcd9",
   "metadata": {},
   "source": [
    "### Query those docs to get your answer back"
   ]
  },
  {
   "cell_type": "code",
   "execution_count": 36,
   "id": "f051337b",
   "metadata": {},
   "outputs": [],
   "source": [
    "from langchain.llms import OpenAI\n",
    "from langchain.chains.question_answering import load_qa_chain"
   ]
  },
  {
   "cell_type": "code",
   "execution_count": 37,
   "id": "6b9b1c03",
   "metadata": {},
   "outputs": [],
   "source": [
    "llm = OpenAI(temperature=0, openai_api_key=os.environ['OPENAI_API_KEY'])\n",
    "chain = load_qa_chain(llm, chain_type=\"stuff\")"
   ]
  },
  {
   "cell_type": "code",
   "execution_count": 50,
   "id": "f67ea7c2",
   "metadata": {},
   "outputs": [
    {
     "data": {
      "text/plain": [
       "' Du kan som tidigast gå i pension från 55 års ålder.'"
      ]
     },
     "execution_count": 50,
     "metadata": {},
     "output_type": "execute_result"
    }
   ],
   "source": [
    "query = \"När kan jag som tidigast gå i pension?\"\n",
    "docs = docsearch.similarity_search(query, include_metadata=True)\n",
    "chain.run(input_documents=docs, question=query)"
   ]
  },
  {
   "cell_type": "code",
   "execution_count": 69,
   "id": "34df685c",
   "metadata": {},
   "outputs": [
    {
     "data": {
      "text/plain": [
       "' ITP2 har en premiebefrielseförsäkring som kan ta över arbetsgivarens inbetalningar av premier till ITP2 vid sjukskrivning från månaden efter dag 90 eller om den anställda varit sjuk i perioder om sammanlagt 105 dagar. ITP1 har inte premiebefrielseförsäkring.'"
      ]
     },
     "execution_count": 69,
     "metadata": {},
     "output_type": "execute_result"
    }
   ],
   "source": [
    "query = \"Hur skiljer sig sjukförsäkring åt mellan ITP1 och ITP2?\"\n",
    "docs = docsearch.similarity_search(query, include_metadata=True)\n",
    "chain.run(input_documents=docs, question=query)"
   ]
  },
  {
   "cell_type": "code",
   "execution_count": 70,
   "id": "3b93e5c2",
   "metadata": {},
   "outputs": [
    {
     "data": {
      "text/plain": [
       "' Premiebefrielseförsäkring är en försäkring som gäller vid sjukdom och som tar över inbetalning av premier till tjänstepension som arbetsgivaren skulle betalat in när den anställda varit på arbetet och fått lön. Den gäller från att den anställda fyller 22 år och tills månaden innan den anställda fyller 65 år. Den är kopplad till tjänstepension som finns i kollektivavtalet och är proportionell till graden av arbetsoförmåga.'"
      ]
     },
     "execution_count": 70,
     "metadata": {},
     "output_type": "execute_result"
    }
   ],
   "source": [
    "query = \"Vad är premiebefrielseförsäkring?\"\n",
    "docs = docsearch.similarity_search(query, include_metadata=True)\n",
    "chain.run(input_documents=docs, question=query)"
   ]
  },
  {
   "cell_type": "code",
   "execution_count": 59,
   "id": "2e45e5ea",
   "metadata": {},
   "outputs": [
    {
     "data": {
      "text/plain": [
       "' Arbetsgivaren betalar in pensionspremien ITP 1 är helt premiebestämd. Premien är 4,5 % på delar av lönen upp till 7,5 inkomstbasbelopp (46 438 kronor per månad, år 2023). För delar av lön från 7,5 upp till 30 inkomstbasbelopp är premie 30 %.'"
      ]
     },
     "execution_count": 59,
     "metadata": {},
     "output_type": "execute_result"
    }
   ],
   "source": [
    "query = \"Hur mycket betalar min arbetsgivare i premie om jag har ITP1?\"\n",
    "docs = docsearch.similarity_search(query, include_metadata=True)\n",
    "chain.run(input_documents=docs, question=query)"
   ]
  },
  {
   "cell_type": "code",
   "execution_count": 60,
   "id": "7c7ee6ae",
   "metadata": {},
   "outputs": [
    {
     "data": {
      "text/plain": [
       "' Tiotaggarval är en tjänstepension som ersätter delar av den kollektivavtalade tjänstepensionen ITP 2. För att kunna välja en alternativ ITP måste den anställda tjäna mer än tio inkomstbasbelopp om året. Arbetsgivaren och den anställda måste vara överens, men det är arbetsgivaren som bestämmer om alternativ ITP ska erbjudas. Den anställda måste komma överens med sin arbetsgivare om att ersätta vissa delar av ITP 2, över 7,5 inkomstbasbelopp med en alternativ ITP (så kallad tio taggarlösning). Det går också att helt byta till ITP 1.'"
      ]
     },
     "execution_count": 60,
     "metadata": {},
     "output_type": "execute_result"
    }
   ],
   "source": [
    "query = \"Hur fungerar tiotaggarval?\"\n",
    "docs = docsearch.similarity_search(query, include_metadata=True)\n",
    "chain.run(input_documents=docs, question=query)"
   ]
  }
 ],
 "metadata": {
  "kernelspec": {
   "display_name": "Python 3 (ipykernel)",
   "language": "python",
   "name": "python3"
  },
  "language_info": {
   "codemirror_mode": {
    "name": "ipython",
    "version": 3
   },
   "file_extension": ".py",
   "mimetype": "text/x-python",
   "name": "python",
   "nbconvert_exporter": "python",
   "pygments_lexer": "ipython3",
   "version": "3.11.3"
  }
 },
 "nbformat": 4,
 "nbformat_minor": 5
}
